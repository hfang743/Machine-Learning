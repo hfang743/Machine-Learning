{
 "cells": [
  {
   "cell_type": "markdown",
   "metadata": {},
   "source": [
    "# PS 3\n",
    "## Question 2: Bi-Linear Models and SGD\n",
    "\n",
    "**Your Name:** Haixiang Fang\n",
    "\n",
    "**People I discussed this question with:** None"
   ]
  },
  {
   "cell_type": "markdown",
   "metadata": {},
   "source": [
    "# Bilinear Models for Recommendation\n",
    "\n",
    "For this problem, you will derive a very simple recommendation system that uses a combination of unsupervised and supervised approachs and demonstrates use of Stochastic Gradient Descent.\n",
    "\n",
    "Specifically, in class we discussed recommender models of the form:\n",
    "$$\n",
    "f(user,movie) = \\langle v_u,v_m \\rangle + b_u + b_m + \\mu\n",
    "$$\n",
    "\n",
    "where $v$ is a vector that represents a user's or movie's location in an N-Dimensional space, $b$ is a vector that represents a specific \"bias\" term for each movie and user, and $\\mu$ is a scalar that represents a kind of global anchor or base score (i.e., a sort of average movie rating). This means that each user has two vectors (e.g., $v_{\\mathrm{jack~smith}}$ and $b_{\\mathrm{jack~smith}}$), and each movie has two vectors (e.g., $v_{\\mathrm{Avengers}}$ and $b_{\\mathrm{Avengers}}$), with each of those vectors being N-Dimensional (in class we used two dimensions). For this, we constructed a loss function as follows:\n",
    "$$\n",
    "Cost = Loss + Penalty\n",
    "$$\n",
    "where\n",
    "$$\n",
    "Loss = \\Sigma_{(u,m)\\in \\mathrm{Ratings}} \\frac{1}{2}\\left( \\langle v_u,v_m \\rangle + b_u + b_m + \\mu - y_{u,m}\\right)^2\n",
    "$$\n",
    "and\n",
    "$$\n",
    "Penalty = \\frac{\\lambda}{2}\\left[\\Sigma_u ||v_u||^2 + b_u^2 + \\Sigma_m ||v_m||^2 + b_m^2\\right]\n",
    "$$\n"
   ]
  },
  {
   "cell_type": "markdown",
   "metadata": {},
   "source": [
    "# Task 1: Analytical Gradients\n",
    "To use stochastic gradient descent, we first need to write down the gradients. Using the above cost function (including both the loss and penalty), compute the following partial derivatives:\n",
    "\n",
    "$$\n",
    "\\frac{\\partial \\textrm{Cost}}{\\partial v_u } =\\sum_{(u,m)\\in Ratings}(\\langle v_u,v_m\\rangle+b_u+b_m+\\mu -y_{u,m})\\frac{\\partial \\langle v_u,v_m\\rangle}{\\partial v_u}+\\lambda \\sum_u\\Vert v_u\\Vert \\frac{\\partial \\Vert v_u\\Vert}{\\partial v_u}\n",
    "$$\n",
    "\n",
    "$$\n",
    "\\frac{\\partial \\textrm{Cost}}{\\partial v_m } = \\sum_{(u,m)\\in Ratings}(\\langle v_u,v_m\\rangle+b_u+b_m+\\mu -y_{u,m})\\frac{\\partial \\langle v_u,v_m\\rangle}{\\partial v_m}+\\lambda \\sum_u\\Vert v_m\\Vert \\frac{\\partial \\Vert v_m\\Vert}{\\partial v_m}\n",
    "$$\n",
    "\n",
    "$$\n",
    "\\frac{\\partial \\textrm{Cost}}{\\partial b_u} = \\sum_{(u,m)\\in Ratings}(\\langle v_u,v_m\\rangle+b_u+b_m+\\mu -y_{u,m})+b_u\n",
    "$$\n",
    "\n",
    "$$\n",
    "\\frac{\\partial \\textrm{Cost}}{\\partial b_m} = \\sum_{(u,m)\\in Ratings}(\\langle v_u,v_m\\rangle+b_u+b_m+\\mu -y_{u,m})+b_m\n",
    "$$\n",
    "\n",
    "$$\n",
    "\\frac{\\partial \\textrm{Cost}}{\\partial \\mu} = \\sum_{(u,m)\\in Ratings}(\\langle v_u,v_m\\rangle+b_u+b_m+\\mu -y_{u,m})\n",
    "$$"
   ]
  },
  {
   "cell_type": "markdown",
   "metadata": {},
   "source": [
    "# Task 2: Stochastic Gradient Descent\n",
    "Now write down the update equations for each vector using stochastic gradient descent. Assume that you will use a constant step size ($\\alpha$):\n",
    "$$\n",
    "v_u:=v_u-\\alpha (\\sum_{(u,m)\\in Ratings}(\\langle v_u,v_m\\rangle+b_u+b_m+\\mu -y_{u,m})\\frac{\\partial \\langle v_u,v_m\\rangle}{\\partial v_u}+\\lambda \\sum_u\\Vert v_u\\Vert \\frac{\\partial \\Vert v_u\\Vert}{\\partial v_u})\n",
    "$$\n",
    "$$\n",
    "v_m:=v_m-\\alpha (\\sum_{(u,m)\\in Ratings}(\\langle v_u,v_m\\rangle+b_u+b_m+\\mu -y_{u,m})\\frac{\\partial \\langle v_u,v_m\\rangle}{\\partial v_m}+\\lambda \\sum_u\\Vert v_m\\Vert \\frac{\\partial \\Vert v_m\\Vert}{\\partial v_m})\n",
    "$$\n",
    "$$\n",
    "b_u:=b_u-\\alpha (\\sum_{(u,m)\\in Ratings}(\\langle v_u,v_m\\rangle+b_u+b_m+\\mu -y_{u,m})+b_u)\n",
    "$$\n",
    "$$\n",
    "b_m:=b_m-\\alpha (\\sum_{(u,m)\\in Ratings}(\\langle v_u,v_m\\rangle+b_u+b_m+\\mu -y_{u,m})+b_m)\n",
    "$$\n",
    "$$\n",
    "\\mu :=\\mu -\\alpha (\\sum_{(u,m)\\in Ratings}(\\langle v_u,v_m\\rangle+b_u+b_m+\\mu -y_{u,m}))\n",
    "$$"
   ]
  },
  {
   "cell_type": "code",
   "execution_count": null,
   "metadata": {},
   "outputs": [],
   "source": []
  }
 ],
 "metadata": {
  "kernelspec": {
   "display_name": "Python 3",
   "language": "python",
   "name": "python3"
  },
  "language_info": {
   "codemirror_mode": {
    "name": "ipython",
    "version": 3
   },
   "file_extension": ".py",
   "mimetype": "text/x-python",
   "name": "python",
   "nbconvert_exporter": "python",
   "pygments_lexer": "ipython3",
   "version": "3.7.3"
  }
 },
 "nbformat": 4,
 "nbformat_minor": 1
}
